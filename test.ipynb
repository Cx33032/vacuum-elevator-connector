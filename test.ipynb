{
 "cells": [
  {
   "cell_type": "markdown",
   "metadata": {},
   "source": [
    "## Current Data (Coordiantes)\n",
    "\n",
    "### L3\n",
    "- Dock Position: ```(25500, 25500)```\n",
    "- Transition Position: ```(23000, 26000)```\n",
    "- Waiting Position: ```(23000, 22000)```\n",
    "- Elevator Position: ```(23000, 20500)```\n",
    "\n",
    "### L2\n",
    "- Dock Position: ```(25500, 25500)```\n",
    "- Exit Transition Position: ```(23000, 25500)```\n",
    "- Waiting Position: ```(25500, 25500)```\n",
    "- Elevator Position: ```(25500, 24000)```\n",
    "\n",
    "### L1\n",
    "\n",
    "### B1\n",
    "\n",
    "### B2\n",
    "\n",
    "## Process\n",
    "\n",
    "1. Vacuum moves to the waiting position in L3 via Transition Point\n",
    "2. Elevator moves to L3 (Thinking on canceling the automation on Mijia, using program to cancel instead)\n",
    "3. Vacuum enters the elevator using the \"Elevator Position\" (Until the state of the vacuum is idle, data from Home Assistant API)\n",
    "4. Elevator moves to the destination level (currently L2)\n",
    "5. Vacuum exits the elevator using the waiting position of L3\n",
    "6. Standby for 5-10s and wait the elevator doors to close\n",
    "7. Activate the remote control mode and stop it after 5 seconds (Or change the map manually through the program)\n",
    "8. Activate the docking mode then start the cleaning process"
   ]
  },
  {
   "cell_type": "code",
   "execution_count": 1,
   "metadata": {},
   "outputs": [],
   "source": [
    "import json\n",
    "import os\n",
    "import sys"
   ]
  },
  {
   "cell_type": "code",
   "execution_count": null,
   "metadata": {},
   "outputs": [
    {
     "data": {
      "text/plain": [
       "int"
      ]
     },
     "execution_count": 5,
     "metadata": {},
     "output_type": "execute_result"
    }
   ],
   "source": [
    "# positions = json.loads(open('jsons/positions.json', 'r', encoding='utf-8').read())\n",
    "# type(positions['3']['Dock Position']['x'])"
   ]
  },
  {
   "cell_type": "code",
   "execution_count": null,
   "metadata": {},
   "outputs": [],
   "source": [
    "sys.path.extend(['.', '..'])\n",
    "from mijiaAPI import mijiaLogin\n",
    "\n",
    "if not os.path.exists('jsons'):\n",
    "    os.mkdir('jsons')\n",
    "\n",
    "pass_file = json.load(open('jsons/credentials.json', 'r'))\n",
    "\n",
    "username = pass_file['username']\n",
    "password = pass_file['password']"
   ]
  },
  {
   "cell_type": "code",
   "execution_count": null,
   "metadata": {},
   "outputs": [],
   "source": [
    "print(username, password)"
   ]
  },
  {
   "cell_type": "code",
   "execution_count": null,
   "metadata": {},
   "outputs": [
    {
     "name": "stdout",
     "output_type": "stream",
     "text": [
      "Scan the QR code below with Mi Home app\n",
      "Failed to print QR code to terminal, please use the qr.png file in the current directory.\n"
     ]
    }
   ],
   "source": [
    "api = mijiaLogin()\n",
    "auth = api.QRlogin()\n",
    "with open('jsons/auth_mijia.json', 'w') as f:\n",
    "    json.dump(auth, f, indent=2)"
   ]
  },
  {
   "cell_type": "code",
   "execution_count": null,
   "metadata": {},
   "outputs": [],
   "source": [
    "from mijiaAPI import mijiaDevices, mijiaAPI\n",
    "import time\n",
    "\n",
    "api = mijiaAPI(auth)\n",
    "devices = api.get_devices_list()['list']\n",
    "with open('jsons/devices.json', 'w') as f:\n",
    "    json.dump(devices, f, indent=2, ensure_ascii=False)\n",
    "time.sleep(2)"
   ]
  },
  {
   "cell_type": "code",
   "execution_count": 26,
   "metadata": {},
   "outputs": [],
   "source": [
    "from mijiaAPI import get_device_info\n",
    "\n",
    "model = 'giot.switch.v51ksm'\n",
    "info = get_device_info(model)\n",
    "\n",
    "if not os.path.exists('dev_info'):\n",
    "    os.mkdir('dev_info')\n",
    "\n",
    "with open(f'dev_info/{model}.json', 'w', encoding='utf-8') as f:\n",
    "    json.dump(info, f, ensure_ascii=False, indent=2)"
   ]
  },
  {
   "cell_type": "code",
   "execution_count": 27,
   "metadata": {},
   "outputs": [],
   "source": [
    "elevator_name_list = ['负二楼电梯','负一楼电梯','一楼电梯','二楼电梯','三楼电梯']\n",
    "elevator_did_list = json.loads('{}')\n",
    "\n",
    "for device in devices:\n",
    "    if device['name'] in elevator_name_list:\n",
    "        elevator_did_list[device['name']] = device['did']\n",
    "\n",
    "with open('jsons/elevator_did.json', 'w') as f:\n",
    "    json.dump(elevator_did_list, f, indent=2, ensure_ascii=False)"
   ]
  },
  {
   "cell_type": "code",
   "execution_count": 10,
   "metadata": {},
   "outputs": [
    {
     "name": "stdout",
     "output_type": "stream",
     "text": [
      "3楼电梯 1138585740\n",
      "-2楼电梯 1138585779\n",
      "2楼电梯 1139221639\n",
      "1楼电梯 1139222448\n"
     ]
    }
   ],
   "source": [
    "devices = json.loads(open('jsons/devices.json', 'r').read())\n",
    "model = 'giot.switch.v51ksm'\n",
    "\n",
    "for device in devices:\n",
    "    if device['model'] == model:\n",
    "        print(device['name'], device['did'])"
   ]
  },
  {
   "cell_type": "code",
   "execution_count": null,
   "metadata": {},
   "outputs": [
    {
     "name": "stdout",
     "output_type": "stream",
     "text": [
      "False\n"
     ]
    }
   ],
   "source": [
    "did = elevator_did_list['三楼电梯']\n",
    "dev_info = json.load(open(f'dev_info/{model}.json', 'r'))\n",
    "device = mijiaDevices(api, dev_info, did=did, sleep_time=2)\n",
    "\n",
    "print(device.run_action('toggle')) # 点按\n",
    "# print(device.on)"
   ]
  },
  {
   "cell_type": "code",
   "execution_count": 12,
   "metadata": {},
   "outputs": [
    {
     "name": "stdout",
     "output_type": "stream",
     "text": [
      "giot.switch.v51ksm\n"
     ]
    }
   ],
   "source": [
    "from elevator import Elevator\n",
    "\n",
    "model = 'giot.switch.v51ksm'\n",
    "credentials = 'jsons/credentials.json'\n",
    "auth = 'jsons/auth.json'\n",
    "devices = 'jsons/devices.json'\n",
    "elevator_did = 'jsons/elevator_did.json'\n",
    "dev_info = f'dev_info/{model}.json'\n",
    "\n",
    "\n",
    "elevator = Elevator(credentials=credentials, auth=auth, devices=devices, elevator_did=elevator_did, dev_info=dev_info)\n",
    "print(elevator.model)"
   ]
  },
  {
   "cell_type": "code",
   "execution_count": null,
   "metadata": {},
   "outputs": [
    {
     "name": "stdout",
     "output_type": "stream",
     "text": [
      "giot.switch.v51ksm\n"
     ]
    }
   ],
   "source": [
    "print(elevator.model)\n",
    "elevator.refresh_device_list()\n",
    "elevator.refresh_floor_list()\n",
    "\n",
    "'''\n",
    " 3 0\n",
    " 2 1\n",
    " 1 2\n",
    "-1 3 \n",
    "\n",
    "'''"
   ]
  }
 ],
 "metadata": {
  "kernelspec": {
   "display_name": "home",
   "language": "python",
   "name": "python3"
  },
  "language_info": {
   "codemirror_mode": {
    "name": "ipython",
    "version": 3
   },
   "file_extension": ".py",
   "mimetype": "text/x-python",
   "name": "python",
   "nbconvert_exporter": "python",
   "pygments_lexer": "ipython3",
   "version": "3.12.9"
  }
 },
 "nbformat": 4,
 "nbformat_minor": 2
}
